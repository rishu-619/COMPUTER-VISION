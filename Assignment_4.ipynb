{
  "nbformat": 4,
  "nbformat_minor": 0,
  "metadata": {
    "colab": {
      "name": "Assignment 4.ipynb",
      "provenance": [],
      "authorship_tag": "ABX9TyMPeTPkVrSHW49Gt2G622cM",
      "include_colab_link": true
    },
    "kernelspec": {
      "name": "python3",
      "display_name": "Python 3"
    },
    "accelerator": "GPU"
  },
  "cells": [
    {
      "cell_type": "markdown",
      "metadata": {
        "id": "view-in-github",
        "colab_type": "text"
      },
      "source": [
        "<a href=\"https://colab.research.google.com/github/rishu-619/COMPUTER-VISION/blob/master/Assignment_4.ipynb\" target=\"_parent\"><img src=\"https://colab.research.google.com/assets/colab-badge.svg\" alt=\"Open In Colab\"/></a>"
      ]
    },
    {
      "cell_type": "code",
      "metadata": {
        "id": "m3dNjkut3UaG",
        "colab_type": "code",
        "colab": {
          "base_uri": "https://localhost:8080/",
          "height": 124
        },
        "outputId": "867ff3e3-0c4f-4fb5-a9a6-46d8330af6b5"
      },
      "source": [
        "from google.colab import drive\n",
        "drive.mount('/content/drive/')"
      ],
      "execution_count": 1,
      "outputs": [
        {
          "output_type": "stream",
          "text": [
            "Go to this URL in a browser: https://accounts.google.com/o/oauth2/auth?client_id=947318989803-6bn6qk8qdgf4n4g3pfee6491hc0brc4i.apps.googleusercontent.com&redirect_uri=urn%3aietf%3awg%3aoauth%3a2.0%3aoob&response_type=code&scope=email%20https%3a%2f%2fwww.googleapis.com%2fauth%2fdocs.test%20https%3a%2f%2fwww.googleapis.com%2fauth%2fdrive%20https%3a%2f%2fwww.googleapis.com%2fauth%2fdrive.photos.readonly%20https%3a%2f%2fwww.googleapis.com%2fauth%2fpeopleapi.readonly\n",
            "\n",
            "Enter your authorization code:\n",
            "··········\n",
            "Mounted at /content/drive/\n"
          ],
          "name": "stdout"
        }
      ]
    },
    {
      "cell_type": "code",
      "metadata": {
        "id": "MsmiR4ZR302n",
        "colab_type": "code",
        "colab": {
          "base_uri": "https://localhost:8080/",
          "height": 35
        },
        "outputId": "f585a194-b56a-4112-8ef2-bf85b6e362f5"
      },
      "source": [
        "import keras,os\n",
        "from keras.models import Sequential\n",
        "from keras.layers import Dense, Conv2D, MaxPool2D , Flatten\n",
        "from keras.preprocessing.image import ImageDataGenerator\n",
        "import numpy as np"
      ],
      "execution_count": 2,
      "outputs": [
        {
          "output_type": "stream",
          "text": [
            "Using TensorFlow backend.\n"
          ],
          "name": "stderr"
        }
      ]
    },
    {
      "cell_type": "code",
      "metadata": {
        "id": "1DBB1dkt34gB",
        "colab_type": "code",
        "colab": {
          "base_uri": "https://localhost:8080/",
          "height": 52
        },
        "outputId": "9e0f70e1-3b91-4050-d734-3fcecf4ec9ce"
      },
      "source": [
        "trdata = ImageDataGenerator()\n",
        "traindata = trdata.flow_from_directory(directory=\"/content/drive/My Drive/training\",target_size=(150,150))\n",
        "tsdata = ImageDataGenerator()\n",
        "testdata = tsdata.flow_from_directory(directory=\"/content/drive/My Drive/Colab Notebooks/test\", target_size=(150,150))"
      ],
      "execution_count": 3,
      "outputs": [
        {
          "output_type": "stream",
          "text": [
            "Found 1536 images belonging to 3 classes.\n",
            "Found 71 images belonging to 3 classes.\n"
          ],
          "name": "stdout"
        }
      ]
    },
    {
      "cell_type": "code",
      "metadata": {
        "id": "6FXL-7Qj39BV",
        "colab_type": "code",
        "colab": {}
      },
      "source": [
        "nb_train_samples=2093\n",
        "nb_validation_samples=313\n",
        "batch_size=50\n",
        "epochs=20"
      ],
      "execution_count": 4,
      "outputs": []
    },
    {
      "cell_type": "code",
      "metadata": {
        "id": "sypsSuFV4AI5",
        "colab_type": "code",
        "colab": {}
      },
      "source": [
        "model = Sequential()\n",
        "model.add(Conv2D(input_shape=(150,150,3),filters=64,kernel_size=(3,3),padding=\"same\", activation=\"relu\"))\n",
        "model.add(Conv2D(filters=64,kernel_size=(3,3),padding=\"same\", activation=\"relu\"))\n",
        "model.add(MaxPool2D(pool_size=(2,2),strides=(2,2)))\n",
        "model.add(Conv2D(filters=128, kernel_size=(3,3), padding=\"same\", activation=\"relu\"))\n",
        "model.add(Conv2D(filters=128, kernel_size=(3,3), padding=\"same\", activation=\"relu\"))\n",
        "model.add(MaxPool2D(pool_size=(2,2),strides=(2,2)))\n",
        "model.add(Conv2D(filters=256, kernel_size=(3,3), padding=\"same\", activation=\"relu\"))\n",
        "model.add(Conv2D(filters=256, kernel_size=(3,3), padding=\"same\", activation=\"relu\"))\n",
        "model.add(Conv2D(filters=256, kernel_size=(3,3), padding=\"same\", activation=\"relu\"))\n",
        "model.add(MaxPool2D(pool_size=(2,2),strides=(2,2)))\n",
        "model.add(Conv2D(filters=512, kernel_size=(3,3), padding=\"same\", activation=\"relu\"))\n",
        "model.add(Conv2D(filters=512, kernel_size=(3,3), padding=\"same\", activation=\"relu\"))\n",
        "model.add(Conv2D(filters=512, kernel_size=(3,3), padding=\"same\", activation=\"relu\"))\n",
        "model.add(MaxPool2D(pool_size=(2,2),strides=(2,2)))\n",
        "model.add(Conv2D(filters=512, kernel_size=(3,3), padding=\"same\", activation=\"relu\"))\n",
        "model.add(Conv2D(filters=512, kernel_size=(3,3), padding=\"same\", activation=\"relu\"))\n",
        "model.add(Conv2D(filters=512, kernel_size=(3,3), padding=\"same\", activation=\"relu\"))\n",
        "model.add(MaxPool2D(pool_size=(2,2),strides=(2,2)))\n",
        "model.add(Flatten())\n",
        "model.add(Dense(units=4096,activation=\"relu\"))\n",
        "model.add(Dense(units=4096,activation=\"relu\"))\n",
        "model.add(Dense(units=3, activation=\"softmax\"))"
      ],
      "execution_count": 5,
      "outputs": []
    },
    {
      "cell_type": "code",
      "metadata": {
        "id": "NPiMsyQa4Fli",
        "colab_type": "code",
        "colab": {
          "base_uri": "https://localhost:8080/",
          "height": 919
        },
        "outputId": "36720d60-5793-4f95-ac36-4d193cdb6370"
      },
      "source": [
        "model.summary()"
      ],
      "execution_count": 6,
      "outputs": [
        {
          "output_type": "stream",
          "text": [
            "Model: \"sequential_1\"\n",
            "_________________________________________________________________\n",
            "Layer (type)                 Output Shape              Param #   \n",
            "=================================================================\n",
            "conv2d_1 (Conv2D)            (None, 150, 150, 64)      1792      \n",
            "_________________________________________________________________\n",
            "conv2d_2 (Conv2D)            (None, 150, 150, 64)      36928     \n",
            "_________________________________________________________________\n",
            "max_pooling2d_1 (MaxPooling2 (None, 75, 75, 64)        0         \n",
            "_________________________________________________________________\n",
            "conv2d_3 (Conv2D)            (None, 75, 75, 128)       73856     \n",
            "_________________________________________________________________\n",
            "conv2d_4 (Conv2D)            (None, 75, 75, 128)       147584    \n",
            "_________________________________________________________________\n",
            "max_pooling2d_2 (MaxPooling2 (None, 37, 37, 128)       0         \n",
            "_________________________________________________________________\n",
            "conv2d_5 (Conv2D)            (None, 37, 37, 256)       295168    \n",
            "_________________________________________________________________\n",
            "conv2d_6 (Conv2D)            (None, 37, 37, 256)       590080    \n",
            "_________________________________________________________________\n",
            "conv2d_7 (Conv2D)            (None, 37, 37, 256)       590080    \n",
            "_________________________________________________________________\n",
            "max_pooling2d_3 (MaxPooling2 (None, 18, 18, 256)       0         \n",
            "_________________________________________________________________\n",
            "conv2d_8 (Conv2D)            (None, 18, 18, 512)       1180160   \n",
            "_________________________________________________________________\n",
            "conv2d_9 (Conv2D)            (None, 18, 18, 512)       2359808   \n",
            "_________________________________________________________________\n",
            "conv2d_10 (Conv2D)           (None, 18, 18, 512)       2359808   \n",
            "_________________________________________________________________\n",
            "max_pooling2d_4 (MaxPooling2 (None, 9, 9, 512)         0         \n",
            "_________________________________________________________________\n",
            "conv2d_11 (Conv2D)           (None, 9, 9, 512)         2359808   \n",
            "_________________________________________________________________\n",
            "conv2d_12 (Conv2D)           (None, 9, 9, 512)         2359808   \n",
            "_________________________________________________________________\n",
            "conv2d_13 (Conv2D)           (None, 9, 9, 512)         2359808   \n",
            "_________________________________________________________________\n",
            "max_pooling2d_5 (MaxPooling2 (None, 4, 4, 512)         0         \n",
            "_________________________________________________________________\n",
            "flatten_1 (Flatten)          (None, 8192)              0         \n",
            "_________________________________________________________________\n",
            "dense_1 (Dense)              (None, 4096)              33558528  \n",
            "_________________________________________________________________\n",
            "dense_2 (Dense)              (None, 4096)              16781312  \n",
            "_________________________________________________________________\n",
            "dense_3 (Dense)              (None, 3)                 12291     \n",
            "=================================================================\n",
            "Total params: 65,066,819\n",
            "Trainable params: 65,066,819\n",
            "Non-trainable params: 0\n",
            "_________________________________________________________________\n"
          ],
          "name": "stdout"
        }
      ]
    },
    {
      "cell_type": "markdown",
      "metadata": {
        "id": "ewY9uXWv4Jvu",
        "colab_type": "text"
      },
      "source": [
        "Using SGD+Momentum"
      ]
    },
    {
      "cell_type": "code",
      "metadata": {
        "id": "Ek3HU-S64Hf3",
        "colab_type": "code",
        "colab": {}
      },
      "source": [
        "from keras.callbacks import Callback\n",
        "from keras.optimizers import Adam\n",
        "from keras.callbacks import ModelCheckpoint, EarlyStopping, ReduceLROnPlateau\n",
        "from keras.optimizers import SGD\n",
        "\n",
        "checkpoint= ModelCheckpoint(\"Model66.h5\", monitor=\"val_accuracy\",mode='max', save_best_only=True,verbose=1)\n",
        "\n",
        "earlystop= EarlyStopping(monitor=\"val_accuracy\",min_delta=0,patience=5,verbose=1,restore_best_weights=True)\n",
        "\n",
        "reduce_lr= ReduceLROnPlateau(monitor=\"val_accuracy\", factor=0.2, patience=5, verbose=1, min_delta=0.001)\n",
        "\n",
        "#putiing callbacks into callback list\n",
        "callbacks = [earlystop, checkpoint, reduce_lr]\n",
        "momentums = [0.0, 0.5, 0.9, 0.99]\n",
        "opt = SGD(lr=0.01, momentum=0.5, decay=0.01)\n",
        "#we use a very small learning rate\n",
        "model.compile(loss = 'categorical_crossentropy',\n",
        "              optimizer=opt,\n",
        "              metrics=['accuracy'])"
      ],
      "execution_count": 22,
      "outputs": []
    },
    {
      "cell_type": "code",
      "metadata": {
        "id": "LYVg80KJ4NoH",
        "colab_type": "code",
        "colab": {
          "base_uri": "https://localhost:8080/",
          "height": 1000
        },
        "outputId": "350fac92-999e-4ffa-a89c-7d05701cf374"
      },
      "source": [
        "history=model.fit_generator(\n",
        "    traindata,\n",
        "    steps_per_epoch=nb_train_samples//batch_size,\n",
        "    epochs=epochs,\n",
        "    validation_data=testdata,\n",
        "    validation_steps=nb_validation_samples//batch_size,\n",
        "    callbacks = [earlystop, checkpoint, reduce_lr])"
      ],
      "execution_count": 8,
      "outputs": [
        {
          "output_type": "stream",
          "text": [
            "Epoch 1/20\n",
            "41/41 [==============================] - 630s 15s/step - loss: 1.0911 - accuracy: 0.4535 - val_loss: 1.1001 - val_accuracy: 0.4648\n",
            "\n",
            "Epoch 00001: val_accuracy improved from -inf to 0.46479, saving model to Modelc.h5\n",
            "Epoch 2/20\n",
            "41/41 [==============================] - 104s 3s/step - loss: 0.9227 - accuracy: 0.5617 - val_loss: 1.0945 - val_accuracy: 0.4789\n",
            "\n",
            "Epoch 00002: val_accuracy improved from 0.46479 to 0.47887, saving model to Modelc.h5\n",
            "Epoch 3/20\n",
            "41/41 [==============================] - 5s 132ms/step - loss: 0.7101 - accuracy: 0.6540 - val_loss: 0.3001 - val_accuracy: 0.8028\n",
            "\n",
            "Epoch 00003: val_accuracy improved from 0.47887 to 0.80282, saving model to Modelc.h5\n",
            "Epoch 4/20\n",
            "41/41 [==============================] - 5s 134ms/step - loss: 0.5552 - accuracy: 0.7188 - val_loss: 0.2923 - val_accuracy: 0.8873\n",
            "\n",
            "Epoch 00004: val_accuracy improved from 0.80282 to 0.88732, saving model to Modelc.h5\n",
            "Epoch 5/20\n",
            "41/41 [==============================] - 5s 132ms/step - loss: 0.6790 - accuracy: 0.6852 - val_loss: 1.0444 - val_accuracy: 0.6761\n",
            "\n",
            "Epoch 00005: val_accuracy did not improve from 0.88732\n",
            "Epoch 6/20\n",
            "41/41 [==============================] - 5s 134ms/step - loss: 0.6183 - accuracy: 0.6936 - val_loss: 0.3633 - val_accuracy: 0.8592\n",
            "\n",
            "Epoch 00006: val_accuracy did not improve from 0.88732\n",
            "Epoch 7/20\n",
            "41/41 [==============================] - 5s 131ms/step - loss: 0.5307 - accuracy: 0.7584 - val_loss: 0.0951 - val_accuracy: 0.8592\n",
            "\n",
            "Epoch 00007: val_accuracy did not improve from 0.88732\n",
            "Epoch 8/20\n",
            "41/41 [==============================] - 5s 132ms/step - loss: 0.4142 - accuracy: 0.8079 - val_loss: 0.0689 - val_accuracy: 0.9296\n",
            "\n",
            "Epoch 00008: val_accuracy improved from 0.88732 to 0.92958, saving model to Modelc.h5\n",
            "Epoch 9/20\n",
            "41/41 [==============================] - 5s 132ms/step - loss: 0.3981 - accuracy: 0.8255 - val_loss: 0.2063 - val_accuracy: 0.9296\n",
            "\n",
            "Epoch 00009: val_accuracy did not improve from 0.92958\n",
            "Epoch 10/20\n",
            "41/41 [==============================] - 5s 130ms/step - loss: 0.3570 - accuracy: 0.8361 - val_loss: 0.0821 - val_accuracy: 0.9718\n",
            "\n",
            "Epoch 00010: val_accuracy improved from 0.92958 to 0.97183, saving model to Modelc.h5\n",
            "Epoch 11/20\n",
            "41/41 [==============================] - 5s 131ms/step - loss: 0.2841 - accuracy: 0.8826 - val_loss: 0.1138 - val_accuracy: 0.9014\n",
            "\n",
            "Epoch 00011: val_accuracy did not improve from 0.97183\n",
            "Epoch 12/20\n",
            "41/41 [==============================] - 5s 134ms/step - loss: 0.3016 - accuracy: 0.8643 - val_loss: 0.2247 - val_accuracy: 0.9859\n",
            "\n",
            "Epoch 00012: val_accuracy improved from 0.97183 to 0.98592, saving model to Modelc.h5\n",
            "Epoch 13/20\n",
            "41/41 [==============================] - 5s 132ms/step - loss: 0.2016 - accuracy: 0.9261 - val_loss: 0.0099 - val_accuracy: 1.0000\n",
            "\n",
            "Epoch 00013: val_accuracy improved from 0.98592 to 1.00000, saving model to Modelc.h5\n",
            "Epoch 14/20\n",
            "41/41 [==============================] - 5s 129ms/step - loss: 0.2228 - accuracy: 0.8994 - val_loss: 0.2905 - val_accuracy: 0.9577\n",
            "\n",
            "Epoch 00014: val_accuracy did not improve from 1.00000\n",
            "Epoch 15/20\n",
            "41/41 [==============================] - 6s 134ms/step - loss: 0.1541 - accuracy: 0.9413 - val_loss: 0.0341 - val_accuracy: 0.9859\n",
            "\n",
            "Epoch 00015: val_accuracy did not improve from 1.00000\n",
            "Epoch 16/20\n",
            "41/41 [==============================] - 5s 132ms/step - loss: 0.1716 - accuracy: 0.9314 - val_loss: 0.0246 - val_accuracy: 1.0000\n",
            "\n",
            "Epoch 00016: val_accuracy did not improve from 1.00000\n",
            "Epoch 17/20\n",
            "41/41 [==============================] - 5s 132ms/step - loss: 0.1651 - accuracy: 0.9367 - val_loss: 0.0033 - val_accuracy: 0.9859\n",
            "\n",
            "Epoch 00017: val_accuracy did not improve from 1.00000\n",
            "Epoch 18/20\n",
            "41/41 [==============================] - 5s 132ms/step - loss: 0.1145 - accuracy: 0.9627 - val_loss: 0.0040 - val_accuracy: 1.0000\n",
            "Restoring model weights from the end of the best epoch\n",
            "\n",
            "Epoch 00018: val_accuracy did not improve from 1.00000\n",
            "\n",
            "Epoch 00018: ReduceLROnPlateau reducing learning rate to 0.0019999999552965165.\n",
            "Epoch 00018: early stopping\n"
          ],
          "name": "stdout"
        }
      ]
    },
    {
      "cell_type": "markdown",
      "metadata": {
        "id": "ofhOYAhV4SP8",
        "colab_type": "text"
      },
      "source": [
        "Using Adam optimiser"
      ]
    },
    {
      "cell_type": "code",
      "metadata": {
        "id": "Csryj7lZ4Psh",
        "colab_type": "code",
        "colab": {}
      },
      "source": [
        "from keras.layers import Dense, Dropout, Flatten, Conv2D, MaxPool2D, BatchNormalization\n",
        "from keras.optimizers import Adam"
      ],
      "execution_count": 9,
      "outputs": []
    },
    {
      "cell_type": "code",
      "metadata": {
        "id": "Ete51HxN4WD0",
        "colab_type": "code",
        "colab": {}
      },
      "source": [
        "model = Sequential()\n",
        "\n",
        "model.add(Conv2D(32, kernel_size=(3,3),input_shape=(150, 150, 3), activation = 'relu'))\n",
        "model.add(Conv2D(32, kernel_size=(3,3), activation = 'relu'))\n",
        "model.add(MaxPool2D(2,2))\n",
        "model.add(BatchNormalization())\n",
        "model.add(Dropout(0.4))\n",
        "\n",
        "model.add(Conv2D(64, kernel_size=(3,3),activation = 'relu'))\n",
        "model.add(Conv2D(64, kernel_size=(3,3),activation = 'relu'))\n",
        "model.add(MaxPool2D(2,2))\n",
        "model.add(BatchNormalization())\n",
        "model.add(Dropout(0.4))\n",
        "\n",
        "model.add(Conv2D(128, kernel_size=(3,3), activation = 'relu'))\n",
        "model.add(BatchNormalization())\n",
        "\n",
        "model.add(Flatten())\n",
        "model.add(Dense(256, activation = \"relu\"))\n",
        "model.add(Dropout(0.4))\n",
        "model.add(Dense(128, activation = \"relu\"))\n",
        "model.add(Dropout(0.4))\n",
        "model.add(Dense(units=3, activation = \"softmax\"))"
      ],
      "execution_count": 10,
      "outputs": []
    },
    {
      "cell_type": "code",
      "metadata": {
        "id": "fTQuWTgd4X-_",
        "colab_type": "code",
        "colab": {
          "base_uri": "https://localhost:8080/",
          "height": 780
        },
        "outputId": "3f19c8fb-e55a-4e87-afe8-2a86238a7ac6"
      },
      "source": [
        "model.summary()"
      ],
      "execution_count": 11,
      "outputs": [
        {
          "output_type": "stream",
          "text": [
            "Model: \"sequential_2\"\n",
            "_________________________________________________________________\n",
            "Layer (type)                 Output Shape              Param #   \n",
            "=================================================================\n",
            "conv2d_14 (Conv2D)           (None, 148, 148, 32)      896       \n",
            "_________________________________________________________________\n",
            "conv2d_15 (Conv2D)           (None, 146, 146, 32)      9248      \n",
            "_________________________________________________________________\n",
            "max_pooling2d_6 (MaxPooling2 (None, 73, 73, 32)        0         \n",
            "_________________________________________________________________\n",
            "batch_normalization_1 (Batch (None, 73, 73, 32)        128       \n",
            "_________________________________________________________________\n",
            "dropout_1 (Dropout)          (None, 73, 73, 32)        0         \n",
            "_________________________________________________________________\n",
            "conv2d_16 (Conv2D)           (None, 71, 71, 64)        18496     \n",
            "_________________________________________________________________\n",
            "conv2d_17 (Conv2D)           (None, 69, 69, 64)        36928     \n",
            "_________________________________________________________________\n",
            "max_pooling2d_7 (MaxPooling2 (None, 34, 34, 64)        0         \n",
            "_________________________________________________________________\n",
            "batch_normalization_2 (Batch (None, 34, 34, 64)        256       \n",
            "_________________________________________________________________\n",
            "dropout_2 (Dropout)          (None, 34, 34, 64)        0         \n",
            "_________________________________________________________________\n",
            "conv2d_18 (Conv2D)           (None, 32, 32, 128)       73856     \n",
            "_________________________________________________________________\n",
            "batch_normalization_3 (Batch (None, 32, 32, 128)       512       \n",
            "_________________________________________________________________\n",
            "flatten_2 (Flatten)          (None, 131072)            0         \n",
            "_________________________________________________________________\n",
            "dense_4 (Dense)              (None, 256)               33554688  \n",
            "_________________________________________________________________\n",
            "dropout_3 (Dropout)          (None, 256)               0         \n",
            "_________________________________________________________________\n",
            "dense_5 (Dense)              (None, 128)               32896     \n",
            "_________________________________________________________________\n",
            "dropout_4 (Dropout)          (None, 128)               0         \n",
            "_________________________________________________________________\n",
            "dense_6 (Dense)              (None, 3)                 387       \n",
            "=================================================================\n",
            "Total params: 33,728,291\n",
            "Trainable params: 33,727,843\n",
            "Non-trainable params: 448\n",
            "_________________________________________________________________\n"
          ],
          "name": "stdout"
        }
      ]
    },
    {
      "cell_type": "code",
      "metadata": {
        "id": "1zL9shIY4aWg",
        "colab_type": "code",
        "colab": {}
      },
      "source": [
        "checkpoint= ModelCheckpoint(\"Model54.h5\", monitor=\"val_accuracy\",mode='max', save_best_only=True,verbose=1)\n",
        "\n",
        "earlystop= EarlyStopping(monitor=\"val_accuracy\",min_delta=0,patience=5,verbose=1,restore_best_weights=True)\n",
        "\n",
        "reduce_lr= ReduceLROnPlateau(monitor=\"val_accuracy\", factor=0.2, patience=5, verbose=1, min_delta=0.001)\n",
        "\n",
        "#putiing callbacks into callback list\n",
        "callbacks = [earlystop, checkpoint, reduce_lr]\n",
        "momentums = [0.0, 0.5, 0.9, 0.99]\n",
        "opt = Adam(lr=0.001)\n",
        "#we use a very small learning rate\n",
        "model.compile(loss = 'categorical_crossentropy',\n",
        "              optimizer=opt,\n",
        "              metrics=['accuracy'])"
      ],
      "execution_count": 12,
      "outputs": []
    },
    {
      "cell_type": "code",
      "metadata": {
        "id": "KynD-Spi4cse",
        "colab_type": "code",
        "colab": {
          "base_uri": "https://localhost:8080/",
          "height": 1000
        },
        "outputId": "58075e80-1ea1-4de8-cfce-b8300a021c35"
      },
      "source": [
        "history=model.fit_generator(\n",
        "    traindata,\n",
        "    steps_per_epoch=nb_train_samples//batch_size,\n",
        "    epochs=epochs,\n",
        "    validation_data=testdata,\n",
        "    validation_steps=nb_validation_samples//batch_size,\n",
        "    callbacks = [earlystop, checkpoint, reduce_lr])"
      ],
      "execution_count": 13,
      "outputs": [
        {
          "output_type": "stream",
          "text": [
            "Epoch 1/20\n",
            "41/41 [==============================] - 5s 120ms/step - loss: 5.4556 - accuracy: 0.6349 - val_loss: 7.9870 - val_accuracy: 0.4507\n",
            "\n",
            "Epoch 00001: val_accuracy improved from -inf to 0.45070, saving model to Model54.h5\n",
            "Epoch 2/20\n",
            "41/41 [==============================] - 4s 92ms/step - loss: 3.8016 - accuracy: 0.6997 - val_loss: 6.8875 - val_accuracy: 0.5211\n",
            "\n",
            "Epoch 00002: val_accuracy improved from 0.45070 to 0.52113, saving model to Model54.h5\n",
            "Epoch 3/20\n",
            "41/41 [==============================] - 3s 84ms/step - loss: 3.0101 - accuracy: 0.7165 - val_loss: 0.9376 - val_accuracy: 0.6761\n",
            "\n",
            "Epoch 00003: val_accuracy improved from 0.52113 to 0.67606, saving model to Model54.h5\n",
            "Epoch 4/20\n",
            "41/41 [==============================] - 4s 87ms/step - loss: 2.3342 - accuracy: 0.7599 - val_loss: 34.9301 - val_accuracy: 0.3380\n",
            "\n",
            "Epoch 00004: val_accuracy did not improve from 0.67606\n",
            "Epoch 5/20\n",
            "41/41 [==============================] - 4s 90ms/step - loss: 1.8227 - accuracy: 0.7523 - val_loss: 2.2953 - val_accuracy: 0.7042\n",
            "\n",
            "Epoch 00005: val_accuracy improved from 0.67606 to 0.70423, saving model to Model54.h5\n",
            "Epoch 6/20\n",
            "41/41 [==============================] - 3s 83ms/step - loss: 1.2874 - accuracy: 0.7797 - val_loss: 1.2807 - val_accuracy: 0.6761\n",
            "\n",
            "Epoch 00006: val_accuracy did not improve from 0.70423\n",
            "Epoch 7/20\n",
            "41/41 [==============================] - 4s 89ms/step - loss: 0.9637 - accuracy: 0.7988 - val_loss: 0.8136 - val_accuracy: 0.6620\n",
            "\n",
            "Epoch 00007: val_accuracy did not improve from 0.70423\n",
            "Epoch 8/20\n",
            "41/41 [==============================] - 4s 98ms/step - loss: 0.6702 - accuracy: 0.8483 - val_loss: 0.0516 - val_accuracy: 0.8873\n",
            "\n",
            "Epoch 00008: val_accuracy improved from 0.70423 to 0.88732, saving model to Model54.h5\n",
            "Epoch 9/20\n",
            "41/41 [==============================] - 4s 90ms/step - loss: 0.7107 - accuracy: 0.8399 - val_loss: 0.0592 - val_accuracy: 0.9718\n",
            "\n",
            "Epoch 00009: val_accuracy improved from 0.88732 to 0.97183, saving model to Model54.h5\n",
            "Epoch 10/20\n",
            "41/41 [==============================] - 4s 88ms/step - loss: 0.4931 - accuracy: 0.8598 - val_loss: 0.3445 - val_accuracy: 0.8873\n",
            "\n",
            "Epoch 00010: val_accuracy did not improve from 0.97183\n",
            "Epoch 11/20\n",
            "41/41 [==============================] - 4s 93ms/step - loss: 0.3773 - accuracy: 0.8857 - val_loss: 0.0243 - val_accuracy: 0.8169\n",
            "\n",
            "Epoch 00011: val_accuracy did not improve from 0.97183\n",
            "Epoch 12/20\n",
            "41/41 [==============================] - 4s 90ms/step - loss: 0.3523 - accuracy: 0.8834 - val_loss: 0.0173 - val_accuracy: 0.9577\n",
            "\n",
            "Epoch 00012: val_accuracy did not improve from 0.97183\n",
            "Epoch 13/20\n",
            "41/41 [==============================] - 4s 91ms/step - loss: 0.3588 - accuracy: 0.8780 - val_loss: 0.1070 - val_accuracy: 0.9577\n",
            "\n",
            "Epoch 00013: val_accuracy did not improve from 0.97183\n",
            "Epoch 14/20\n",
            "41/41 [==============================] - 4s 91ms/step - loss: 0.3080 - accuracy: 0.8933 - val_loss: 0.0035 - val_accuracy: 0.9859\n",
            "\n",
            "Epoch 00014: val_accuracy improved from 0.97183 to 0.98592, saving model to Model54.h5\n",
            "Epoch 15/20\n",
            "41/41 [==============================] - 4s 97ms/step - loss: 0.2844 - accuracy: 0.9101 - val_loss: 0.0878 - val_accuracy: 0.8592\n",
            "\n",
            "Epoch 00015: val_accuracy did not improve from 0.98592\n",
            "Epoch 16/20\n",
            "41/41 [==============================] - 4s 91ms/step - loss: 0.3489 - accuracy: 0.9017 - val_loss: 0.3072 - val_accuracy: 0.9577\n",
            "\n",
            "Epoch 00016: val_accuracy did not improve from 0.98592\n",
            "Epoch 17/20\n",
            "41/41 [==============================] - 4s 91ms/step - loss: 0.2806 - accuracy: 0.9146 - val_loss: 0.0275 - val_accuracy: 0.9718\n",
            "\n",
            "Epoch 00017: val_accuracy did not improve from 0.98592\n",
            "Epoch 18/20\n",
            "41/41 [==============================] - 4s 93ms/step - loss: 0.2535 - accuracy: 0.9200 - val_loss: 0.0290 - val_accuracy: 0.9577\n",
            "\n",
            "Epoch 00018: val_accuracy did not improve from 0.98592\n",
            "Epoch 19/20\n",
            "41/41 [==============================] - 4s 93ms/step - loss: 0.1891 - accuracy: 0.9451 - val_loss: 0.3747 - val_accuracy: 0.9718\n",
            "Restoring model weights from the end of the best epoch\n",
            "\n",
            "Epoch 00019: val_accuracy did not improve from 0.98592\n",
            "\n",
            "Epoch 00019: ReduceLROnPlateau reducing learning rate to 0.00020000000949949026.\n",
            "Epoch 00019: early stopping\n"
          ],
          "name": "stdout"
        }
      ]
    },
    {
      "cell_type": "markdown",
      "metadata": {
        "id": "kJ6_pVay4jXQ",
        "colab_type": "text"
      },
      "source": [
        "Using RMSprop optimizer"
      ]
    },
    {
      "cell_type": "code",
      "metadata": {
        "id": "lcaaTiDC4gpd",
        "colab_type": "code",
        "colab": {}
      },
      "source": [
        "from keras.optimizers import RMSprop"
      ],
      "execution_count": 14,
      "outputs": []
    },
    {
      "cell_type": "code",
      "metadata": {
        "id": "XQ-N6Kyd4lpv",
        "colab_type": "code",
        "colab": {}
      },
      "source": [
        "checkpoint= ModelCheckpoint(\"Model99.h5\", monitor=\"val_accuracy\",mode='max', save_best_only=True,verbose=1)\n",
        "\n",
        "earlystop= EarlyStopping(monitor=\"val_accuracy\",min_delta=0,patience=5,verbose=1,restore_best_weights=True)\n",
        "\n",
        "reduce_lr= ReduceLROnPlateau(monitor=\"val_accuracy\", factor=0.2, patience=5, verbose=1, min_delta=0.001)\n",
        "\n",
        "#putiing callbacks into callback list\n",
        "callbacks = [earlystop, checkpoint, reduce_lr]\n",
        "opt = RMSprop(lr=0.001)\n",
        "#we use a very small learning rate\n",
        "model.compile(loss = 'categorical_crossentropy',\n",
        "              optimizer=opt,\n",
        "              metrics=['accuracy'])"
      ],
      "execution_count": 15,
      "outputs": []
    },
    {
      "cell_type": "code",
      "metadata": {
        "id": "2HI7kgfm4pX2",
        "colab_type": "code",
        "colab": {
          "base_uri": "https://localhost:8080/",
          "height": 641
        },
        "outputId": "ed410b74-3b3a-4cf1-ad7f-dd88510b011b"
      },
      "source": [
        "history=model.fit_generator(\n",
        "    traindata,\n",
        "    steps_per_epoch=nb_train_samples//batch_size,\n",
        "    epochs=epochs,\n",
        "    validation_data=testdata,\n",
        "    validation_steps=nb_validation_samples//batch_size,\n",
        "    callbacks = [earlystop, checkpoint, reduce_lr])"
      ],
      "execution_count": 16,
      "outputs": [
        {
          "output_type": "stream",
          "text": [
            "Epoch 1/20\n",
            "41/41 [==============================] - 4s 110ms/step - loss: 1.5490 - accuracy: 0.7927 - val_loss: 70.7855 - val_accuracy: 0.3521\n",
            "\n",
            "Epoch 00001: val_accuracy improved from -inf to 0.35211, saving model to Model99.h5\n",
            "Epoch 2/20\n",
            "41/41 [==============================] - 4s 87ms/step - loss: 0.8222 - accuracy: 0.8155 - val_loss: 0.2741 - val_accuracy: 0.9296\n",
            "\n",
            "Epoch 00002: val_accuracy improved from 0.35211 to 0.92958, saving model to Model99.h5\n",
            "Epoch 3/20\n",
            "41/41 [==============================] - 4s 89ms/step - loss: 1.0087 - accuracy: 0.8361 - val_loss: 0.5677 - val_accuracy: 0.9437\n",
            "\n",
            "Epoch 00003: val_accuracy improved from 0.92958 to 0.94366, saving model to Model99.h5\n",
            "Epoch 4/20\n",
            "41/41 [==============================] - 4s 86ms/step - loss: 0.7479 - accuracy: 0.8277 - val_loss: 0.0215 - val_accuracy: 0.8592\n",
            "\n",
            "Epoch 00004: val_accuracy did not improve from 0.94366\n",
            "Epoch 5/20\n",
            "41/41 [==============================] - 4s 91ms/step - loss: 0.7988 - accuracy: 0.8468 - val_loss: 0.1447 - val_accuracy: 0.9437\n",
            "\n",
            "Epoch 00005: val_accuracy did not improve from 0.94366\n",
            "Epoch 6/20\n",
            "41/41 [==============================] - 4s 90ms/step - loss: 0.8444 - accuracy: 0.8407 - val_loss: 4.7202 - val_accuracy: 0.6620\n",
            "\n",
            "Epoch 00006: val_accuracy did not improve from 0.94366\n",
            "Epoch 7/20\n",
            "41/41 [==============================] - 4s 89ms/step - loss: 0.4237 - accuracy: 0.8727 - val_loss: 34.8360 - val_accuracy: 0.4648\n",
            "\n",
            "Epoch 00007: val_accuracy did not improve from 0.94366\n",
            "Epoch 8/20\n",
            "41/41 [==============================] - 4s 95ms/step - loss: 0.7098 - accuracy: 0.8651 - val_loss: 0.1609 - val_accuracy: 0.9437\n",
            "Restoring model weights from the end of the best epoch\n",
            "\n",
            "Epoch 00008: val_accuracy did not improve from 0.94366\n",
            "\n",
            "Epoch 00008: ReduceLROnPlateau reducing learning rate to 0.00020000000949949026.\n",
            "Epoch 00008: early stopping\n"
          ],
          "name": "stdout"
        }
      ]
    },
    {
      "cell_type": "markdown",
      "metadata": {
        "id": "6R31PgOl4vOy",
        "colab_type": "text"
      },
      "source": [
        "\n",
        "Using Nadam Optimizer"
      ]
    },
    {
      "cell_type": "code",
      "metadata": {
        "id": "-jKgNBJc4sGt",
        "colab_type": "code",
        "colab": {}
      },
      "source": [
        "from keras.optimizers import Nadam"
      ],
      "execution_count": 17,
      "outputs": []
    },
    {
      "cell_type": "code",
      "metadata": {
        "id": "O5_-DinW4xmk",
        "colab_type": "code",
        "colab": {}
      },
      "source": [
        "checkpoint= ModelCheckpoint(\"Modelk.h5\", monitor=\"val_accuracy\",mode='max', save_best_only=True,verbose=1)\n",
        "\n",
        "earlystop= EarlyStopping(monitor=\"val_accuracy\",min_delta=0,patience=5,verbose=1,restore_best_weights=True)\n",
        "\n",
        "reduce_lr= ReduceLROnPlateau(monitor=\"val_accuracy\", factor=0.2, patience=5, verbose=1, min_delta=0.001)\n",
        "\n",
        "#putiing callbacks into callback list\n",
        "callbacks = [earlystop, checkpoint, reduce_lr]\n",
        "opt = Nadam(lr=0.001, beta_1=0.9, beta_2=0.999, epsilon=1e-07)\n",
        "#we use a very small learning rate\n",
        "model.compile(loss = 'categorical_crossentropy',\n",
        "              optimizer=opt,\n",
        "              metrics=['accuracy'])"
      ],
      "execution_count": 18,
      "outputs": []
    },
    {
      "cell_type": "code",
      "metadata": {
        "id": "pqxEY_bM4zsP",
        "colab_type": "code",
        "colab": {
          "base_uri": "https://localhost:8080/",
          "height": 1000
        },
        "outputId": "f6355536-d8e6-4517-aea1-49e819e88102"
      },
      "source": [
        "history=model.fit_generator(\n",
        "    traindata,\n",
        "    steps_per_epoch=nb_train_samples//batch_size,\n",
        "    epochs=epochs,\n",
        "    validation_data=testdata,\n",
        "    validation_steps=nb_validation_samples//batch_size,\n",
        "    callbacks = [earlystop, checkpoint, reduce_lr])"
      ],
      "execution_count": 19,
      "outputs": [
        {
          "output_type": "stream",
          "text": [
            "Epoch 1/20\n",
            "41/41 [==============================] - 5s 115ms/step - loss: 0.7608 - accuracy: 0.8392 - val_loss: 16.5406 - val_accuracy: 0.6338\n",
            "\n",
            "Epoch 00001: val_accuracy improved from -inf to 0.63380, saving model to Modelk.h5\n",
            "Epoch 2/20\n",
            "41/41 [==============================] - 4s 89ms/step - loss: 0.6966 - accuracy: 0.8491 - val_loss: 4.0704 - val_accuracy: 0.7465\n",
            "\n",
            "Epoch 00002: val_accuracy improved from 0.63380 to 0.74648, saving model to Modelk.h5\n",
            "Epoch 3/20\n",
            "41/41 [==============================] - 4s 88ms/step - loss: 0.6718 - accuracy: 0.8521 - val_loss: 3.5643 - val_accuracy: 0.8169\n",
            "\n",
            "Epoch 00003: val_accuracy improved from 0.74648 to 0.81690, saving model to Modelk.h5\n",
            "Epoch 4/20\n",
            "41/41 [==============================] - 4s 87ms/step - loss: 0.7030 - accuracy: 0.8605 - val_loss: 0.1673 - val_accuracy: 0.9155\n",
            "\n",
            "Epoch 00004: val_accuracy improved from 0.81690 to 0.91549, saving model to Modelk.h5\n",
            "Epoch 5/20\n",
            "41/41 [==============================] - 4s 87ms/step - loss: 0.5689 - accuracy: 0.8506 - val_loss: 0.4172 - val_accuracy: 0.7887\n",
            "\n",
            "Epoch 00005: val_accuracy did not improve from 0.91549\n",
            "Epoch 6/20\n",
            "41/41 [==============================] - 4s 93ms/step - loss: 0.4224 - accuracy: 0.8819 - val_loss: 0.0202 - val_accuracy: 0.9155\n",
            "\n",
            "Epoch 00006: val_accuracy did not improve from 0.91549\n",
            "Epoch 7/20\n",
            "41/41 [==============================] - 4s 89ms/step - loss: 0.5926 - accuracy: 0.8941 - val_loss: 0.0071 - val_accuracy: 0.9859\n",
            "\n",
            "Epoch 00007: val_accuracy improved from 0.91549 to 0.98592, saving model to Modelk.h5\n",
            "Epoch 8/20\n",
            "41/41 [==============================] - 4s 96ms/step - loss: 0.4362 - accuracy: 0.9002 - val_loss: 0.1540 - val_accuracy: 0.9577\n",
            "\n",
            "Epoch 00008: val_accuracy did not improve from 0.98592\n",
            "Epoch 9/20\n",
            "41/41 [==============================] - 4s 93ms/step - loss: 0.3505 - accuracy: 0.8872 - val_loss: 0.0211 - val_accuracy: 0.9577\n",
            "\n",
            "Epoch 00009: val_accuracy did not improve from 0.98592\n",
            "Epoch 10/20\n",
            "41/41 [==============================] - 4s 93ms/step - loss: 0.2999 - accuracy: 0.9093 - val_loss: 0.0012 - val_accuracy: 1.0000\n",
            "\n",
            "Epoch 00010: val_accuracy improved from 0.98592 to 1.00000, saving model to Modelk.h5\n",
            "Epoch 11/20\n",
            "41/41 [==============================] - 3s 85ms/step - loss: 0.2021 - accuracy: 0.9314 - val_loss: 0.3201 - val_accuracy: 0.9437\n",
            "\n",
            "Epoch 00011: val_accuracy did not improve from 1.00000\n",
            "Epoch 12/20\n",
            "41/41 [==============================] - 4s 93ms/step - loss: 0.1914 - accuracy: 0.9360 - val_loss: 4.9205e-04 - val_accuracy: 1.0000\n",
            "\n",
            "Epoch 00012: val_accuracy did not improve from 1.00000\n",
            "Epoch 13/20\n",
            "41/41 [==============================] - 4s 92ms/step - loss: 0.1657 - accuracy: 0.9405 - val_loss: 0.0030 - val_accuracy: 1.0000\n",
            "\n",
            "Epoch 00013: val_accuracy did not improve from 1.00000\n",
            "Epoch 14/20\n",
            "41/41 [==============================] - 4s 89ms/step - loss: 0.1517 - accuracy: 0.9527 - val_loss: 3.7155e-04 - val_accuracy: 1.0000\n",
            "\n",
            "Epoch 00014: val_accuracy did not improve from 1.00000\n",
            "Epoch 15/20\n",
            "41/41 [==============================] - 4s 94ms/step - loss: 0.2661 - accuracy: 0.9345 - val_loss: 0.1101 - val_accuracy: 1.0000\n",
            "Restoring model weights from the end of the best epoch\n",
            "\n",
            "Epoch 00015: val_accuracy did not improve from 1.00000\n",
            "\n",
            "Epoch 00015: ReduceLROnPlateau reducing learning rate to 0.00020000000949949026.\n",
            "Epoch 00015: early stopping\n"
          ],
          "name": "stdout"
        }
      ]
    },
    {
      "cell_type": "markdown",
      "metadata": {
        "id": "-famwvsk43zh",
        "colab_type": "text"
      },
      "source": [
        "Nesterov Accelerated Gradient Descent"
      ]
    },
    {
      "cell_type": "code",
      "metadata": {
        "id": "kiGmKDbP414E",
        "colab_type": "code",
        "colab": {}
      },
      "source": [
        "from keras.optimizers import SGD\n",
        "\n",
        "checkpoint= ModelCheckpoint(\"Model0.h5\", monitor=\"val_accuracy\",mode='max', save_best_only=True,verbose=1)\n",
        "\n",
        "earlystop= EarlyStopping(monitor=\"val_accuracy\",min_delta=0,patience=5,verbose=1,restore_best_weights=True)\n",
        "\n",
        "reduce_lr= ReduceLROnPlateau(monitor=\"val_accuracy\", factor=0.2, patience=5, verbose=1, min_delta=0.001)\n",
        "\n",
        "#putiing callbacks into callback list\n",
        "callbacks = [earlystop, checkpoint, reduce_lr]\n",
        "momentums = [0.0, 0.5, 0.9, 0.99]\n",
        "opt = SGD(lr=0.001, momentum=0.0, decay=0.01,nesterov=True)\n",
        "#we use a very small learning rate\n",
        "model.compile(loss = 'categorical_crossentropy',\n",
        "              optimizer=opt,\n",
        "              metrics=['accuracy'])"
      ],
      "execution_count": 20,
      "outputs": []
    },
    {
      "cell_type": "code",
      "metadata": {
        "id": "BUswodS347Jd",
        "colab_type": "code",
        "colab": {
          "base_uri": "https://localhost:8080/",
          "height": 503
        },
        "outputId": "87445ba9-e9ca-4f10-fd3a-51366fb3fcec"
      },
      "source": [
        "history=model.fit_generator(\n",
        "    traindata,\n",
        "    steps_per_epoch=nb_train_samples//batch_size,\n",
        "    epochs=epochs,\n",
        "    validation_data=testdata,\n",
        "    validation_steps=nb_validation_samples//batch_size,\n",
        "    callbacks = [earlystop, checkpoint, reduce_lr])"
      ],
      "execution_count": 21,
      "outputs": [
        {
          "output_type": "stream",
          "text": [
            "Epoch 1/20\n",
            "41/41 [==============================] - 4s 110ms/step - loss: 0.1829 - accuracy: 0.9345 - val_loss: 2.0571e-05 - val_accuracy: 1.0000\n",
            "\n",
            "Epoch 00001: val_accuracy improved from -inf to 1.00000, saving model to Model0.h5\n",
            "Epoch 2/20\n",
            "41/41 [==============================] - 4s 87ms/step - loss: 0.2152 - accuracy: 0.9192 - val_loss: 0.0025 - val_accuracy: 1.0000\n",
            "\n",
            "Epoch 00002: val_accuracy did not improve from 1.00000\n",
            "Epoch 3/20\n",
            "41/41 [==============================] - 4s 89ms/step - loss: 0.1900 - accuracy: 0.9284 - val_loss: 0.0170 - val_accuracy: 1.0000\n",
            "\n",
            "Epoch 00003: val_accuracy did not improve from 1.00000\n",
            "Epoch 4/20\n",
            "41/41 [==============================] - 4s 90ms/step - loss: 0.1925 - accuracy: 0.9306 - val_loss: 1.2021e-04 - val_accuracy: 1.0000\n",
            "\n",
            "Epoch 00004: val_accuracy did not improve from 1.00000\n",
            "Epoch 5/20\n",
            "41/41 [==============================] - 4s 87ms/step - loss: 0.1693 - accuracy: 0.9367 - val_loss: 0.0242 - val_accuracy: 1.0000\n",
            "\n",
            "Epoch 00005: val_accuracy did not improve from 1.00000\n",
            "Epoch 6/20\n",
            "41/41 [==============================] - 4s 91ms/step - loss: 0.1759 - accuracy: 0.9413 - val_loss: 0.0000e+00 - val_accuracy: 1.0000\n",
            "Restoring model weights from the end of the best epoch\n",
            "\n",
            "Epoch 00006: val_accuracy did not improve from 1.00000\n",
            "\n",
            "Epoch 00006: ReduceLROnPlateau reducing learning rate to 0.00020000000949949026.\n",
            "Epoch 00006: early stopping\n"
          ],
          "name": "stdout"
        }
      ]
    }
  ]
}