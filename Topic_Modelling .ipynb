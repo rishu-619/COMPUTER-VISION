{
  "nbformat": 4,
  "nbformat_minor": 0,
  "metadata": {
    "kernelspec": {
      "display_name": "Python 3",
      "language": "python",
      "name": "python3"
    },
    "language_info": {
      "codemirror_mode": {
        "name": "ipython",
        "version": 3
      },
      "file_extension": ".py",
      "mimetype": "text/x-python",
      "name": "python",
      "nbconvert_exporter": "python",
      "pygments_lexer": "ipython3",
      "version": "3.7.3"
    },
    "colab": {
      "name": "8_Topic-Modellin.ipynb",
      "provenance": [],
      "include_colab_link": true
    },
    "accelerator": "GPU"
  },
  "cells": [
    {
      "cell_type": "markdown",
      "metadata": {
        "id": "view-in-github",
        "colab_type": "text"
      },
      "source": [
        "<a href=\"https://colab.research.google.com/github/rishu-619/COMPUTER-VISION/blob/master/Topic_Modelling%20.ipynb\" target=\"_parent\"><img src=\"https://colab.research.google.com/assets/colab-badge.svg\" alt=\"Open In Colab\"/></a>"
      ]
    },
    {
      "cell_type": "code",
      "metadata": {
        "id": "N9UcLSi7d-n6"
      },
      "source": [
        "# download news group data set from sklearn\n",
        "from sklearn.datasets import fetch_20newsgroups"
      ],
      "execution_count": 4,
      "outputs": []
    },
    {
      "cell_type": "code",
      "metadata": {
        "id": "M29LReJVd-oC",
        "outputId": "8d2b7172-3b93-4184-fdab-d7fa7f23723d",
        "colab": {
          "base_uri": "https://localhost:8080/",
          "height": 52
        }
      },
      "source": [
        "#assign train and test data\n",
        "ng_train = fetch_20newsgroups(subset = 'train',shuffle=True)\n",
        "ng_test   = fetch_20newsgroups(subset = 'test',shuffle=True)"
      ],
      "execution_count": 5,
      "outputs": [
        {
          "output_type": "stream",
          "text": [
            "Downloading 20news dataset. This may take a few minutes.\n",
            "Downloading dataset from https://ndownloader.figshare.com/files/5975967 (14 MB)\n"
          ],
          "name": "stderr"
        }
      ]
    },
    {
      "cell_type": "code",
      "metadata": {
        "scrolled": true,
        "id": "tZZrrkwJd-oK",
        "outputId": "f096ee97-385c-452c-86d0-23a22f5c364b",
        "colab": {
          "base_uri": "https://localhost:8080/",
          "height": 55
        }
      },
      "source": [
        "print(list(ng_train.target_names))"
      ],
      "execution_count": 6,
      "outputs": [
        {
          "output_type": "stream",
          "text": [
            "['alt.atheism', 'comp.graphics', 'comp.os.ms-windows.misc', 'comp.sys.ibm.pc.hardware', 'comp.sys.mac.hardware', 'comp.windows.x', 'misc.forsale', 'rec.autos', 'rec.motorcycles', 'rec.sport.baseball', 'rec.sport.hockey', 'sci.crypt', 'sci.electronics', 'sci.med', 'sci.space', 'soc.religion.christian', 'talk.politics.guns', 'talk.politics.mideast', 'talk.politics.misc', 'talk.religion.misc']\n"
          ],
          "name": "stdout"
        }
      ]
    },
    {
      "cell_type": "code",
      "metadata": {
        "id": "NWmco14Qd-oR",
        "outputId": "4e50ef2f-0368-45ba-cf9c-19394dfc87bd",
        "colab": {
          "base_uri": "https://localhost:8080/",
          "height": 124
        }
      },
      "source": [
        "#sample news\n",
        "ng_train.data[:5]"
      ],
      "execution_count": 7,
      "outputs": [
        {
          "output_type": "execute_result",
          "data": {
            "text/plain": [
              "[\"From: lerxst@wam.umd.edu (where's my thing)\\nSubject: WHAT car is this!?\\nNntp-Posting-Host: rac3.wam.umd.edu\\nOrganization: University of Maryland, College Park\\nLines: 15\\n\\n I was wondering if anyone out there could enlighten me on this car I saw\\nthe other day. It was a 2-door sports car, looked to be from the late 60s/\\nearly 70s. It was called a Bricklin. The doors were really small. In addition,\\nthe front bumper was separate from the rest of the body. This is \\nall I know. If anyone can tellme a model name, engine specs, years\\nof production, where this car is made, history, or whatever info you\\nhave on this funky looking car, please e-mail.\\n\\nThanks,\\n- IL\\n   ---- brought to you by your neighborhood Lerxst ----\\n\\n\\n\\n\\n\",\n",
              " \"From: guykuo@carson.u.washington.edu (Guy Kuo)\\nSubject: SI Clock Poll - Final Call\\nSummary: Final call for SI clock reports\\nKeywords: SI,acceleration,clock,upgrade\\nArticle-I.D.: shelley.1qvfo9INNc3s\\nOrganization: University of Washington\\nLines: 11\\nNNTP-Posting-Host: carson.u.washington.edu\\n\\nA fair number of brave souls who upgraded their SI clock oscillator have\\nshared their experiences for this poll. Please send a brief message detailing\\nyour experiences with the procedure. Top speed attained, CPU rated speed,\\nadd on cards and adapters, heat sinks, hour of usage per day, floppy disk\\nfunctionality with 800 and 1.4 m floppies are especially requested.\\n\\nI will be summarizing in the next two days, so please add to the network\\nknowledge base if you have done the clock upgrade and haven't answered this\\npoll. Thanks.\\n\\nGuy Kuo <guykuo@u.washington.edu>\\n\",\n",
              " 'From: twillis@ec.ecn.purdue.edu (Thomas E Willis)\\nSubject: PB questions...\\nOrganization: Purdue University Engineering Computer Network\\nDistribution: usa\\nLines: 36\\n\\nwell folks, my mac plus finally gave up the ghost this weekend after\\nstarting life as a 512k way back in 1985.  sooo, i\\'m in the market for a\\nnew machine a bit sooner than i intended to be...\\n\\ni\\'m looking into picking up a powerbook 160 or maybe 180 and have a bunch\\nof questions that (hopefully) somebody can answer:\\n\\n* does anybody know any dirt on when the next round of powerbook\\nintroductions are expected?  i\\'d heard the 185c was supposed to make an\\nappearence \"this summer\" but haven\\'t heard anymore on it - and since i\\ndon\\'t have access to macleak, i was wondering if anybody out there had\\nmore info...\\n\\n* has anybody heard rumors about price drops to the powerbook line like the\\nones the duo\\'s just went through recently?\\n\\n* what\\'s the impression of the display on the 180?  i could probably swing\\na 180 if i got the 80Mb disk rather than the 120, but i don\\'t really have\\na feel for how much \"better\" the display is (yea, it looks great in the\\nstore, but is that all \"wow\" or is it really that good?).  could i solicit\\nsome opinions of people who use the 160 and 180 day-to-day on if its worth\\ntaking the disk size and money hit to get the active display?  (i realize\\nthis is a real subjective question, but i\\'ve only played around with the\\nmachines in a computer store breifly and figured the opinions of somebody\\nwho actually uses the machine daily might prove helpful).\\n\\n* how well does hellcats perform?  ;)\\n\\nthanks a bunch in advance for any info - if you could email, i\\'ll post a\\nsummary (news reading time is at a premium with finals just around the\\ncorner... :( )\\n--\\nTom Willis  \\\\  twillis@ecn.purdue.edu    \\\\    Purdue Electrical Engineering\\n---------------------------------------------------------------------------\\n\"Convictions are more dangerous enemies of truth than lies.\"  - F. W.\\nNietzsche\\n',\n",
              " 'From: jgreen@amber (Joe Green)\\nSubject: Re: Weitek P9000 ?\\nOrganization: Harris Computer Systems Division\\nLines: 14\\nDistribution: world\\nNNTP-Posting-Host: amber.ssd.csd.harris.com\\nX-Newsreader: TIN [version 1.1 PL9]\\n\\nRobert J.C. Kyanko (rob@rjck.UUCP) wrote:\\n> abraxis@iastate.edu writes in article <abraxis.734340159@class1.iastate.edu>:\\n> > Anyone know about the Weitek P9000 graphics chip?\\n> As far as the low-level stuff goes, it looks pretty nice.  It\\'s got this\\n> quadrilateral fill command that requires just the four points.\\n\\nDo you have Weitek\\'s address/phone number?  I\\'d like to get some information\\nabout this chip.\\n\\n--\\nJoe Green\\t\\t\\t\\tHarris Corporation\\njgreen@csd.harris.com\\t\\t\\tComputer Systems Division\\n\"The only thing that really scares me is a person with no sense of humor.\"\\n\\t\\t\\t\\t\\t\\t-- Jonathan Winters\\n',\n",
              " 'From: jcm@head-cfa.harvard.edu (Jonathan McDowell)\\nSubject: Re: Shuttle Launch Question\\nOrganization: Smithsonian Astrophysical Observatory, Cambridge, MA,  USA\\nDistribution: sci\\nLines: 23\\n\\nFrom article <C5owCB.n3p@world.std.com>, by tombaker@world.std.com (Tom A Baker):\\n>>In article <C5JLwx.4H9.1@cs.cmu.edu>, ETRAT@ttacs1.ttu.edu (Pack Rat) writes...\\n>>>\"Clear caution & warning memory.  Verify no unexpected\\n>>>errors. ...\".  I am wondering what an \"expected error\" might\\n>>>be.  Sorry if this is a really dumb question, but\\n> \\n> Parity errors in memory or previously known conditions that were waivered.\\n>    \"Yes that is an error, but we already knew about it\"\\n> I\\'d be curious as to what the real meaning of the quote is.\\n> \\n> tom\\n\\n\\nMy understanding is that the \\'expected errors\\' are basically\\nknown bugs in the warning system software - things are checked\\nthat don\\'t have the right values in yet because they aren\\'t\\nset till after launch, and suchlike. Rather than fix the code\\nand possibly introduce new bugs, they just tell the crew\\n\\'ok, if you see a warning no. 213 before liftoff, ignore it\\'.\\n\\n - Jonathan\\n\\n\\n']"
            ]
          },
          "metadata": {
            "tags": []
          },
          "execution_count": 7
        }
      ]
    },
    {
      "cell_type": "code",
      "metadata": {
        "id": "RBSrz88bd-oX",
        "outputId": "0a39422e-46a4-4816-d26a-9e493fecd9a9",
        "colab": {
          "base_uri": "https://localhost:8080/",
          "height": 35
        }
      },
      "source": [
        "#shape of the subsets\n",
        "print(ng_train.filenames.shape,ng_train.target.shape)"
      ],
      "execution_count": 8,
      "outputs": [
        {
          "output_type": "stream",
          "text": [
            "(11314,) (11314,)\n"
          ],
          "name": "stdout"
        }
      ]
    },
    {
      "cell_type": "code",
      "metadata": {
        "id": "ZJpDyg3zd-od"
      },
      "source": [
        "#Data Preprocessing\n",
        "#Tokenization\n",
        "'''\n",
        "Loading gensim and nltk libraries\n",
        "'''\n",
        "#!pip install gensim\n",
        "import gensim\n",
        "\n",
        "# Converts into tokens (Alternative to word_tokenize)\n",
        "from gensim.utils import simple_preprocess\n",
        "\n",
        "from gensim.parsing.preprocessing import STOPWORDS\n",
        "\n",
        "from nltk.stem import WordNetLemmatizer, SnowballStemmer\n",
        "#from nltk.stem import *\n",
        "import numpy as np\n",
        "np.random.seed(400)"
      ],
      "execution_count": 9,
      "outputs": []
    },
    {
      "cell_type": "code",
      "metadata": {
        "id": "HBRmR6Jzd-oi",
        "outputId": "66ad6143-8469-4e24-98bc-055f50be79b5",
        "colab": {
          "base_uri": "https://localhost:8080/",
          "height": 69
        }
      },
      "source": [
        "import nltk\n",
        "nltk.download('wordnet')"
      ],
      "execution_count": 10,
      "outputs": [
        {
          "output_type": "stream",
          "text": [
            "[nltk_data] Downloading package wordnet to /root/nltk_data...\n",
            "[nltk_data]   Unzipping corpora/wordnet.zip.\n"
          ],
          "name": "stdout"
        },
        {
          "output_type": "execute_result",
          "data": {
            "text/plain": [
              "True"
            ]
          },
          "metadata": {
            "tags": []
          },
          "execution_count": 10
        }
      ]
    },
    {
      "cell_type": "code",
      "metadata": {
        "id": "uonOZj0jd-ou",
        "outputId": "15553f96-0bab-4fd7-f7bc-1bb664220b0c",
        "colab": {
          "base_uri": "https://localhost:8080/",
          "height": 35
        }
      },
      "source": [
        "#testing the lemmatize statment. It should convert past or future tense into present tense\n",
        "WordNetLemmatizer().lemmatize('runs')"
      ],
      "execution_count": 11,
      "outputs": [
        {
          "output_type": "execute_result",
          "data": {
            "application/vnd.google.colaboratory.intrinsic+json": {
              "type": "string"
            },
            "text/plain": [
              "'run'"
            ]
          },
          "metadata": {
            "tags": []
          },
          "execution_count": 11
        }
      ]
    },
    {
      "cell_type": "code",
      "metadata": {
        "scrolled": false,
        "id": "vBFTWeucd-oz",
        "outputId": "5f89bcc9-84f8-4cd9-a138-dbb9217a58cd",
        "colab": {
          "base_uri": "https://localhost:8080/",
          "height": 631
        }
      },
      "source": [
        "#testing the stemming part before preprocessing. This should be changing any plural into singular word\n",
        "import pandas as pd\n",
        "stemmer = SnowballStemmer(\"english\")\n",
        "original_words=['caresses', 'flies', 'dies', 'mules', 'denied','died', 'agreed', 'owned', \n",
        "           'humbled', 'sized','meeting', 'stating', 'siezing', 'itemization','sensational', \n",
        "           'traditional', 'reference', 'colonizer','plotted']\n",
        "\n",
        "singles= [WordNetLemmatizer().lemmatize(plural,pos='v') for plural in original_words]\n",
        "\n",
        "pd.DataFrame(data={'Original Words':original_words, 'Lemma':singles})\n",
        "\n",
        "#Stemma is not performing well \n",
        "#singles= [stemmer.stem(plural) for plural in original_words]\n",
        "#singles2= [stemmer.stem(plural2) for plural2 in singles]\n",
        "#stemma = pd.DataFrame(data={'Lemma':singles, 'Stemmed':singles2})\n",
        "\n"
      ],
      "execution_count": 12,
      "outputs": [
        {
          "output_type": "execute_result",
          "data": {
            "text/html": [
              "<div>\n",
              "<style scoped>\n",
              "    .dataframe tbody tr th:only-of-type {\n",
              "        vertical-align: middle;\n",
              "    }\n",
              "\n",
              "    .dataframe tbody tr th {\n",
              "        vertical-align: top;\n",
              "    }\n",
              "\n",
              "    .dataframe thead th {\n",
              "        text-align: right;\n",
              "    }\n",
              "</style>\n",
              "<table border=\"1\" class=\"dataframe\">\n",
              "  <thead>\n",
              "    <tr style=\"text-align: right;\">\n",
              "      <th></th>\n",
              "      <th>Original Words</th>\n",
              "      <th>Lemma</th>\n",
              "    </tr>\n",
              "  </thead>\n",
              "  <tbody>\n",
              "    <tr>\n",
              "      <th>0</th>\n",
              "      <td>caresses</td>\n",
              "      <td>caress</td>\n",
              "    </tr>\n",
              "    <tr>\n",
              "      <th>1</th>\n",
              "      <td>flies</td>\n",
              "      <td>fly</td>\n",
              "    </tr>\n",
              "    <tr>\n",
              "      <th>2</th>\n",
              "      <td>dies</td>\n",
              "      <td>die</td>\n",
              "    </tr>\n",
              "    <tr>\n",
              "      <th>3</th>\n",
              "      <td>mules</td>\n",
              "      <td>mules</td>\n",
              "    </tr>\n",
              "    <tr>\n",
              "      <th>4</th>\n",
              "      <td>denied</td>\n",
              "      <td>deny</td>\n",
              "    </tr>\n",
              "    <tr>\n",
              "      <th>5</th>\n",
              "      <td>died</td>\n",
              "      <td>die</td>\n",
              "    </tr>\n",
              "    <tr>\n",
              "      <th>6</th>\n",
              "      <td>agreed</td>\n",
              "      <td>agree</td>\n",
              "    </tr>\n",
              "    <tr>\n",
              "      <th>7</th>\n",
              "      <td>owned</td>\n",
              "      <td>own</td>\n",
              "    </tr>\n",
              "    <tr>\n",
              "      <th>8</th>\n",
              "      <td>humbled</td>\n",
              "      <td>humble</td>\n",
              "    </tr>\n",
              "    <tr>\n",
              "      <th>9</th>\n",
              "      <td>sized</td>\n",
              "      <td>size</td>\n",
              "    </tr>\n",
              "    <tr>\n",
              "      <th>10</th>\n",
              "      <td>meeting</td>\n",
              "      <td>meet</td>\n",
              "    </tr>\n",
              "    <tr>\n",
              "      <th>11</th>\n",
              "      <td>stating</td>\n",
              "      <td>state</td>\n",
              "    </tr>\n",
              "    <tr>\n",
              "      <th>12</th>\n",
              "      <td>siezing</td>\n",
              "      <td>siezing</td>\n",
              "    </tr>\n",
              "    <tr>\n",
              "      <th>13</th>\n",
              "      <td>itemization</td>\n",
              "      <td>itemization</td>\n",
              "    </tr>\n",
              "    <tr>\n",
              "      <th>14</th>\n",
              "      <td>sensational</td>\n",
              "      <td>sensational</td>\n",
              "    </tr>\n",
              "    <tr>\n",
              "      <th>15</th>\n",
              "      <td>traditional</td>\n",
              "      <td>traditional</td>\n",
              "    </tr>\n",
              "    <tr>\n",
              "      <th>16</th>\n",
              "      <td>reference</td>\n",
              "      <td>reference</td>\n",
              "    </tr>\n",
              "    <tr>\n",
              "      <th>17</th>\n",
              "      <td>colonizer</td>\n",
              "      <td>colonizer</td>\n",
              "    </tr>\n",
              "    <tr>\n",
              "      <th>18</th>\n",
              "      <td>plotted</td>\n",
              "      <td>plot</td>\n",
              "    </tr>\n",
              "  </tbody>\n",
              "</table>\n",
              "</div>"
            ],
            "text/plain": [
              "   Original Words        Lemma\n",
              "0        caresses       caress\n",
              "1           flies          fly\n",
              "2            dies          die\n",
              "3           mules        mules\n",
              "4          denied         deny\n",
              "5            died          die\n",
              "6          agreed        agree\n",
              "7           owned          own\n",
              "8         humbled       humble\n",
              "9           sized         size\n",
              "10        meeting         meet\n",
              "11        stating        state\n",
              "12        siezing      siezing\n",
              "13    itemization  itemization\n",
              "14    sensational  sensational\n",
              "15    traditional  traditional\n",
              "16      reference    reference\n",
              "17      colonizer    colonizer\n",
              "18        plotted         plot"
            ]
          },
          "metadata": {
            "tags": []
          },
          "execution_count": 12
        }
      ]
    },
    {
      "cell_type": "code",
      "metadata": {
        "id": "BYx4fA2Td-o9"
      },
      "source": [
        "# writing function for the entire dataset\n",
        "def lemmatize_stemming(text):\n",
        "    return stemmer.stem(WordNetLemmatizer().lemmatize(text,pos='v'))\n",
        "\n",
        "#Tokenize and Lemmatize\n",
        "def preprocess(text):\n",
        "    result=[]\n",
        "    for token in gensim.utils.simple_preprocess(text):\n",
        "        if token not in gensim.parsing.preprocessing.STOPWORDS and len(token)>3:\n",
        "            result.append(lemmatize_stemming(token))\n",
        "            \n",
        "    return result\n",
        "        "
      ],
      "execution_count": 13,
      "outputs": []
    },
    {
      "cell_type": "code",
      "metadata": {
        "id": "FVQAIg8_d-pB",
        "outputId": "4330667f-084e-4b26-a7c1-ddfc691a8387",
        "colab": {
          "base_uri": "https://localhost:8080/",
          "height": 121
        }
      },
      "source": [
        "#preview a document before preprocessing\n",
        "\n",
        "#document_num = 50\n",
        "doc_sample = 'This disk has failed many times. I would like to get it replaced.'\n",
        "\n",
        "print(\"Original Document: \")\n",
        "words=[]\n",
        "for word in doc_sample.split(' '):\n",
        "    words.append(word)\n",
        "print(words)\n",
        "print(\"\\n\\nTokenized and lemmatized document: \")\n",
        "print(preprocess(doc_sample))"
      ],
      "execution_count": 14,
      "outputs": [
        {
          "output_type": "stream",
          "text": [
            "Original Document: \n",
            "['This', 'disk', 'has', 'failed', 'many', 'times.', 'I', 'would', 'like', 'to', 'get', 'it', 'replaced.']\n",
            "\n",
            "\n",
            "Tokenized and lemmatized document: \n",
            "['disk', 'fail', 'time', 'like', 'replac']\n"
          ],
          "name": "stdout"
        }
      ]
    },
    {
      "cell_type": "code",
      "metadata": {
        "id": "vNklTkXLd-pF"
      },
      "source": [
        "processed_docs = []\n",
        "\n",
        "for doc in ng_train.data:\n",
        "    processed_docs.append(preprocess(doc))"
      ],
      "execution_count": 15,
      "outputs": []
    },
    {
      "cell_type": "code",
      "metadata": {
        "id": "TbZS2I8Nd-pJ",
        "outputId": "d260a9b8-96de-4680-f203-1df8051684c9",
        "colab": {
          "base_uri": "https://localhost:8080/",
          "height": 35
        }
      },
      "source": [
        "len(processed_docs)"
      ],
      "execution_count": 16,
      "outputs": [
        {
          "output_type": "execute_result",
          "data": {
            "text/plain": [
              "11314"
            ]
          },
          "metadata": {
            "tags": []
          },
          "execution_count": 16
        }
      ]
    },
    {
      "cell_type": "code",
      "metadata": {
        "scrolled": false,
        "id": "Z04a0MJDd-pO",
        "outputId": "e2279bfe-b2f6-4580-ad66-a6ef84c7d319",
        "colab": {
          "base_uri": "https://localhost:8080/",
          "height": 55
        }
      },
      "source": [
        "print(processed_docs[:2])"
      ],
      "execution_count": 17,
      "outputs": [
        {
          "output_type": "stream",
          "text": [
            "[['lerxst', 'thing', 'subject', 'nntp', 'post', 'host', 'organ', 'univers', 'maryland', 'colleg', 'park', 'line', 'wonder', 'enlighten', 'door', 'sport', 'look', 'late', 'earli', 'call', 'bricklin', 'door', 'small', 'addit', 'bumper', 'separ', 'rest', 'bodi', 'know', 'tellm', 'model', 'engin', 'spec', 'year', 'product', 'histori', 'info', 'funki', 'look', 'mail', 'thank', 'bring', 'neighborhood', 'lerxst'], ['guykuo', 'carson', 'washington', 'subject', 'clock', 'poll', 'final', 'summari', 'final', 'clock', 'report', 'keyword', 'acceler', 'clock', 'upgrad', 'articl', 'shelley', 'qvfo', 'innc', 'organ', 'univers', 'washington', 'line', 'nntp', 'post', 'host', 'carson', 'washington', 'fair', 'number', 'brave', 'soul', 'upgrad', 'clock', 'oscil', 'share', 'experi', 'poll', 'send', 'brief', 'messag', 'detail', 'experi', 'procedur', 'speed', 'attain', 'rat', 'speed', 'card', 'adapt', 'heat', 'sink', 'hour', 'usag', 'floppi', 'disk', 'function', 'floppi', 'especi', 'request', 'summar', 'day', 'network', 'knowledg', 'base', 'clock', 'upgrad', 'haven', 'answer', 'poll', 'thank', 'guykuo', 'washington']]\n"
          ],
          "name": "stdout"
        }
      ]
    },
    {
      "cell_type": "code",
      "metadata": {
        "id": "F5U8-Bv0d-pW"
      },
      "source": [
        "#bag of words on the data set\n",
        "dictionary = gensim.corpora.Dictionary(processed_docs)"
      ],
      "execution_count": 18,
      "outputs": []
    },
    {
      "cell_type": "code",
      "metadata": {
        "id": "aqBh6GMMd-pZ",
        "outputId": "324800b8-1200-498a-b4ec-8e14f64cc1d0",
        "colab": {
          "base_uri": "https://localhost:8080/",
          "height": 35
        }
      },
      "source": [
        "print (dictionary)"
      ],
      "execution_count": 19,
      "outputs": [
        {
          "output_type": "stream",
          "text": [
            "Dictionary(61411 unique tokens: ['addit', 'bodi', 'bricklin', 'bring', 'bumper']...)\n"
          ],
          "name": "stdout"
        }
      ]
    },
    {
      "cell_type": "code",
      "metadata": {
        "id": "LG1YAbF3d-pf",
        "outputId": "75a273c3-53a8-4c0f-8b3c-bbc1e53da98e",
        "colab": {
          "base_uri": "https://localhost:8080/",
          "height": 381
        }
      },
      "source": [
        "#Lets see if dictionary created succesfully\n",
        "count=0\n",
        "for k,v in dictionary.iteritems():\n",
        "    print (k, v)\n",
        "    count +=1\n",
        "    if count >20:\n",
        "        break"
      ],
      "execution_count": 20,
      "outputs": [
        {
          "output_type": "stream",
          "text": [
            "0 addit\n",
            "1 bodi\n",
            "2 bricklin\n",
            "3 bring\n",
            "4 bumper\n",
            "5 call\n",
            "6 colleg\n",
            "7 door\n",
            "8 earli\n",
            "9 engin\n",
            "10 enlighten\n",
            "11 funki\n",
            "12 histori\n",
            "13 host\n",
            "14 info\n",
            "15 know\n",
            "16 late\n",
            "17 lerxst\n",
            "18 line\n",
            "19 look\n",
            "20 mail\n"
          ],
          "name": "stdout"
        }
      ]
    },
    {
      "cell_type": "code",
      "metadata": {
        "id": "cbZoGaiGd-pj"
      },
      "source": [
        "#remove rare and repeatative words\n",
        "dictionary.filter_extremes(no_below=15,no_above=0.1,keep_n=100000)"
      ],
      "execution_count": 21,
      "outputs": []
    },
    {
      "cell_type": "code",
      "metadata": {
        "id": "sLKZa7GYd-pn",
        "outputId": "723be1dd-a14d-4089-a26d-06479fa6bf07",
        "colab": {
          "base_uri": "https://localhost:8080/",
          "height": 35
        }
      },
      "source": [
        "print (dictionary)"
      ],
      "execution_count": 22,
      "outputs": [
        {
          "output_type": "stream",
          "text": [
            "Dictionary(6536 unique tokens: ['addit', 'bodi', 'bring', 'bumper', 'call']...)\n"
          ],
          "name": "stdout"
        }
      ]
    },
    {
      "cell_type": "code",
      "metadata": {
        "id": "HeZDfG0xd-pr"
      },
      "source": [
        "#Create the Bag-of-words model for each document i.e for each document we create a dictionary reporting how many\n",
        "#words and how many times those words appear. Save this to 'bow_corpus'\n",
        "bow_corpus = [dictionary.doc2bow(doc) for doc in processed_docs]"
      ],
      "execution_count": 23,
      "outputs": []
    },
    {
      "cell_type": "code",
      "metadata": {
        "id": "3A1m1QS4d-pv",
        "outputId": "7c1a92ae-3699-4c52-bb3a-18af79f821c1",
        "colab": {
          "base_uri": "https://localhost:8080/",
          "height": 433
        }
      },
      "source": [
        "bow_corpus[0]"
      ],
      "execution_count": 24,
      "outputs": [
        {
          "output_type": "execute_result",
          "data": {
            "text/plain": [
              "[(0, 1),\n",
              " (1, 1),\n",
              " (2, 1),\n",
              " (3, 1),\n",
              " (4, 1),\n",
              " (5, 1),\n",
              " (6, 2),\n",
              " (7, 1),\n",
              " (8, 1),\n",
              " (9, 1),\n",
              " (10, 1),\n",
              " (11, 1),\n",
              " (12, 1),\n",
              " (13, 1),\n",
              " (14, 1),\n",
              " (15, 1),\n",
              " (16, 1),\n",
              " (17, 1),\n",
              " (18, 1),\n",
              " (19, 1),\n",
              " (20, 1),\n",
              " (21, 1),\n",
              " (22, 1),\n",
              " (23, 1)]"
            ]
          },
          "metadata": {
            "tags": []
          },
          "execution_count": 24
        }
      ]
    },
    {
      "cell_type": "code",
      "metadata": {
        "scrolled": true,
        "id": "aaJ_E2A7d-py",
        "outputId": "95401c5d-e767-4bb5-8427-f4413a839b94",
        "colab": {
          "base_uri": "https://localhost:8080/",
          "height": 537
        }
      },
      "source": [
        "#preview \n",
        "document_num = 10\n",
        "bow_doc_x = bow_corpus[document_num]\n",
        "\n",
        "for i in range(len(bow_doc_x)):\n",
        "    print(\"Word {} (\\\"{}\\\") appears {} time.\".format(bow_doc_x[i][0], \n",
        "                                                     dictionary[bow_doc_x[i][0]],\n",
        "                                                     bow_doc_x[i][1]))"
      ],
      "execution_count": 25,
      "outputs": [
        {
          "output_type": "stream",
          "text": [
            "Word 14 (\"model\") appears 1 time.\n",
            "Word 33 (\"clock\") appears 1 time.\n",
            "Word 46 (\"keyword\") appears 1 time.\n",
            "Word 63 (\"summari\") appears 1 time.\n",
            "Word 83 (\"email\") appears 1 time.\n",
            "Word 101 (\"opinion\") appears 1 time.\n",
            "Word 130 (\"worth\") appears 1 time.\n",
            "Word 146 (\"nice\") appears 1 time.\n",
            "Word 227 (\"hard\") appears 1 time.\n",
            "Word 385 (\"owner\") appears 1 time.\n",
            "Word 399 (\"axi\") appears 1 time.\n",
            "Word 400 (\"beemer\") appears 1 time.\n",
            "Word 401 (\"bike\") appears 2 time.\n",
            "Word 402 (\"brown\") appears 1 time.\n",
            "Word 403 (\"ducati\") appears 2 time.\n",
            "Word 404 (\"expir\") appears 1 time.\n",
            "Word 405 (\"fade\") appears 1 time.\n",
            "Word 406 (\"leak\") appears 2 time.\n",
            "Word 407 (\"lonestar\") appears 2 time.\n",
            "Word 408 (\"motor\") appears 1 time.\n",
            "Word 409 (\"orang\") appears 1 time.\n",
            "Word 410 (\"paint\") appears 1 time.\n",
            "Word 411 (\"pop\") appears 1 time.\n",
            "Word 412 (\"recommend\") appears 1 time.\n",
            "Word 413 (\"richardson\") appears 2 time.\n",
            "Word 414 (\"run\") appears 1 time.\n",
            "Word 415 (\"sell\") appears 1 time.\n",
            "Word 416 (\"shop\") appears 1 time.\n",
            "Word 417 (\"stabl\") appears 1 time.\n",
            "Word 418 (\"tran\") appears 1 time.\n"
          ],
          "name": "stdout"
        }
      ]
    },
    {
      "cell_type": "code",
      "metadata": {
        "id": "kV7c7GGnd-p3"
      },
      "source": [
        "lda_model =  gensim.models.LdaMulticore(bow_corpus, \n",
        "                                   num_topics = 10, \n",
        "                                   id2word = dictionary,                                    \n",
        "                                   passes = 10,\n",
        "                                   workers = 2)"
      ],
      "execution_count": 26,
      "outputs": []
    },
    {
      "cell_type": "code",
      "metadata": {
        "scrolled": true,
        "id": "dIC80lsJd-p8",
        "outputId": "a78af0e4-4141-4579-87ad-7a4a33b07d50",
        "colab": {
          "base_uri": "https://localhost:8080/",
          "height": 731
        }
      },
      "source": [
        "for idx, topic in lda_model.print_topics():\n",
        "    print(\"Topic: {} \\nWords: {}\".format(idx, topic ))\n",
        "    print(\"\\n\")"
      ],
      "execution_count": 27,
      "outputs": [
        {
          "output_type": "stream",
          "text": [
            "Topic: 0 \n",
            "Words: 0.018*\"game\" + 0.015*\"team\" + 0.010*\"play\" + 0.010*\"player\" + 0.007*\"season\" + 0.007*\"hockey\" + 0.005*\"leagu\" + 0.005*\"score\" + 0.004*\"bike\" + 0.004*\"basebal\"\n",
            "\n",
            "\n",
            "Topic: 1 \n",
            "Words: 0.005*\"weapon\" + 0.005*\"gun\" + 0.004*\"firearm\" + 0.004*\"effect\" + 0.004*\"drug\" + 0.004*\"crime\" + 0.004*\"caus\" + 0.004*\"food\" + 0.004*\"control\" + 0.004*\"pitt\"\n",
            "\n",
            "\n",
            "Topic: 2 \n",
            "Words: 0.017*\"wire\" + 0.016*\"scsi\" + 0.008*\"grind\" + 0.007*\"sandvik\" + 0.007*\"circuit\" + 0.007*\"connect\" + 0.007*\"appl\" + 0.006*\"kent\" + 0.006*\"militia\" + 0.005*\"outlet\"\n",
            "\n",
            "\n",
            "Topic: 3 \n",
            "Words: 0.010*\"space\" + 0.008*\"nasa\" + 0.005*\"presid\" + 0.005*\"nation\" + 0.005*\"govern\" + 0.004*\"center\" + 0.004*\"program\" + 0.004*\"orbit\" + 0.003*\"report\" + 0.003*\"research\"\n",
            "\n",
            "\n",
            "Topic: 4 \n",
            "Words: 0.012*\"encrypt\" + 0.011*\"govern\" + 0.010*\"israel\" + 0.010*\"secur\" + 0.010*\"chip\" + 0.009*\"isra\" + 0.008*\"clipper\" + 0.006*\"public\" + 0.006*\"key\" + 0.005*\"arab\"\n",
            "\n",
            "\n",
            "Topic: 5 \n",
            "Words: 0.012*\"toronto\" + 0.009*\"ohio\" + 0.008*\"columbia\" + 0.008*\"canada\" + 0.007*\"henri\" + 0.006*\"magnus\" + 0.005*\"alaska\" + 0.005*\"play\" + 0.004*\"period\" + 0.004*\"appear\"\n",
            "\n",
            "\n",
            "Topic: 6 \n",
            "Words: 0.017*\"file\" + 0.012*\"program\" + 0.008*\"version\" + 0.007*\"card\" + 0.007*\"avail\" + 0.007*\"imag\" + 0.007*\"graphic\" + 0.007*\"window\" + 0.006*\"softwar\" + 0.005*\"color\"\n",
            "\n",
            "\n",
            "Topic: 7 \n",
            "Words: 0.011*\"christian\" + 0.007*\"jesus\" + 0.006*\"exist\" + 0.005*\"moral\" + 0.005*\"religion\" + 0.004*\"bibl\" + 0.004*\"claim\" + 0.004*\"word\" + 0.004*\"life\" + 0.004*\"human\"\n",
            "\n",
            "\n",
            "Topic: 8 \n",
            "Words: 0.018*\"drive\" + 0.006*\"price\" + 0.006*\"sale\" + 0.006*\"disk\" + 0.006*\"control\" + 0.006*\"speed\" + 0.006*\"hard\" + 0.005*\"engin\" + 0.005*\"power\" + 0.005*\"sell\"\n",
            "\n",
            "\n",
            "Topic: 9 \n",
            "Words: 0.036*\"window\" + 0.015*\"armenian\" + 0.009*\"file\" + 0.008*\"mous\" + 0.006*\"widget\" + 0.006*\"applic\" + 0.006*\"manag\" + 0.005*\"program\" + 0.005*\"armenia\" + 0.005*\"motif\"\n",
            "\n",
            "\n"
          ],
          "name": "stdout"
        }
      ]
    },
    {
      "cell_type": "code",
      "metadata": {
        "id": "DAoerQY6d-qC",
        "outputId": "8293b6e8-984e-48ba-90db-21a925b1984a",
        "colab": {
          "base_uri": "https://localhost:8080/",
          "height": 329
        }
      },
      "source": [
        "num = 100\n",
        "unseen_document = ng_test.data[num]\n",
        "print(unseen_document)"
      ],
      "execution_count": 28,
      "outputs": [
        {
          "output_type": "stream",
          "text": [
            "Subject: help\n",
            "From: C..Doelle@p26.f3333.n106.z1.fidonet.org (C. Doelle)\n",
            "Lines: 13\n",
            "\n",
            "Hello All!\n",
            "\n",
            "    It is my understanding that all True-Type fonts in Windows are loaded in\n",
            "prior to starting Windows - this makes getting into Windows quite slow if you\n",
            "have hundreds of them as I do.  First off, am I correct in this thinking -\n",
            "secondly, if that is the case - can you get Windows to ignore them on boot and\n",
            "maybe make something like a PIF file to load them only when you enter the\n",
            "applications that need fonts?  Any ideas?\n",
            "\n",
            "\n",
            "Chris\n",
            "\n",
            " * Origin: chris.doelle.@f3333.n106.z1.fidonet.org (1:106/3333.26)\n",
            "\n"
          ],
          "name": "stdout"
        }
      ]
    },
    {
      "cell_type": "code",
      "metadata": {
        "id": "2DSom_x_d-qF",
        "outputId": "be046fad-73f5-45b1-c7c0-4196dd3c1a67",
        "colab": {
          "base_uri": "https://localhost:8080/",
          "height": 89
        }
      },
      "source": [
        "bow_vector = dictionary.doc2bow(preprocess(unseen_document))\n",
        "\n",
        "for index, score in sorted(lda_model[bow_vector]):\n",
        "    print(\"Score: {}\\t Topic: {}\".format(score, lda_model.print_topic(index, 30)))"
      ],
      "execution_count": 29,
      "outputs": [
        {
          "output_type": "stream",
          "text": [
            "Score: 0.3599081039428711\t Topic: 0.017*\"file\" + 0.012*\"program\" + 0.008*\"version\" + 0.007*\"card\" + 0.007*\"avail\" + 0.007*\"imag\" + 0.007*\"graphic\" + 0.007*\"window\" + 0.006*\"softwar\" + 0.005*\"color\" + 0.005*\"list\" + 0.005*\"send\" + 0.005*\"data\" + 0.005*\"email\" + 0.005*\"server\" + 0.005*\"info\" + 0.005*\"sourc\" + 0.005*\"user\" + 0.005*\"entri\" + 0.005*\"support\" + 0.004*\"internet\" + 0.004*\"address\" + 0.004*\"format\" + 0.004*\"video\" + 0.004*\"code\" + 0.004*\"type\" + 0.004*\"system\" + 0.004*\"build\" + 0.004*\"display\" + 0.004*\"unix\"\n",
            "Score: 0.12011542171239853\t Topic: 0.018*\"drive\" + 0.006*\"price\" + 0.006*\"sale\" + 0.006*\"disk\" + 0.006*\"control\" + 0.006*\"speed\" + 0.006*\"hard\" + 0.005*\"engin\" + 0.005*\"power\" + 0.005*\"sell\" + 0.005*\"access\" + 0.004*\"appl\" + 0.004*\"buy\" + 0.004*\"high\" + 0.004*\"card\" + 0.003*\"driver\" + 0.003*\"sound\" + 0.003*\"model\" + 0.003*\"offer\" + 0.003*\"ship\" + 0.003*\"car\" + 0.003*\"instal\" + 0.003*\"cost\" + 0.003*\"board\" + 0.003*\"best\" + 0.003*\"monitor\" + 0.003*\"chip\" + 0.003*\"printer\" + 0.003*\"design\" + 0.002*\"machin\"\n",
            "Score: 0.4973911643028259\t Topic: 0.036*\"window\" + 0.015*\"armenian\" + 0.009*\"file\" + 0.008*\"mous\" + 0.006*\"widget\" + 0.006*\"applic\" + 0.006*\"manag\" + 0.005*\"program\" + 0.005*\"armenia\" + 0.005*\"motif\" + 0.005*\"turkish\" + 0.005*\"display\" + 0.005*\"uucp\" + 0.004*\"event\" + 0.004*\"jpeg\" + 0.004*\"serdar\" + 0.004*\"argic\" + 0.004*\"copi\" + 0.004*\"chang\" + 0.004*\"imag\" + 0.004*\"run\" + 0.004*\"font\" + 0.004*\"turk\" + 0.004*\"creat\" + 0.003*\"xterm\" + 0.003*\"driver\" + 0.003*\"memori\" + 0.003*\"server\" + 0.003*\"genocid\" + 0.003*\"softwar\"\n"
          ],
          "name": "stdout"
        }
      ]
    },
    {
      "cell_type": "code",
      "metadata": {
        "id": "extku1UUd-qM"
      },
      "source": [
        "#bow_vector = dictionary.doc2bow(preprocess(unseen_document))\n",
        "\n",
        "#for index, score in sorted(lda_model[bow_vector], key=lambda x: x[1]):\n",
        "#    print(\"Score: {}\\t Topic: {}\".format(score, lda_model.print_topic(index, 5)))"
      ],
      "execution_count": null,
      "outputs": []
    },
    {
      "cell_type": "code",
      "metadata": {
        "scrolled": true,
        "id": "SuRYPg3Ad-qQ"
      },
      "source": [
        "#print(ng_test.target[1])"
      ],
      "execution_count": null,
      "outputs": []
    },
    {
      "cell_type": "code",
      "metadata": {
        "id": "7tp__KTDd-qU"
      },
      "source": [
        ""
      ],
      "execution_count": null,
      "outputs": []
    }
  ]
}